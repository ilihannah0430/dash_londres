{
 "cells": [
  {
   "cell_type": "code",
   "execution_count": 73,
   "id": "001e3b72-1c63-4713-ac53-3c9dfcc04a3b",
   "metadata": {},
   "outputs": [],
   "source": [
    "import pandas as pd\n",
    "import matplotlib.pyplot as plt\n",
    "import numpy as np\n",
    "import plotly.express as px\n",
    "import ipywidgets as widgets\n",
    "from IPython.display import display"
   ]
  },
  {
   "cell_type": "code",
   "execution_count": 72,
   "id": "b42b4b11-53c6-424f-9de7-457aee9ee6cf",
   "metadata": {},
   "outputs": [],
   "source": [
    "#pip install plotly ipywidgets"
   ]
  },
  {
   "cell_type": "markdown",
   "id": "5b2101af-2f31-44a9-98df-9f63e9d27284",
   "metadata": {},
   "source": [
    "# 1.Statistiques descriptives\n",
    "## 1.1 Prix des maisons\n",
    "### 1.1.1 land-registry-house-prices-borough"
   ]
  },
  {
   "cell_type": "code",
   "execution_count": 44,
   "id": "4a3d498d-2a9e-4c7b-8715-5cc003587214",
   "metadata": {},
   "outputs": [],
   "source": [
    "medianes = pd.read_csv('land-registry-house-prices-borough.csv')"
   ]
  },
  {
   "cell_type": "code",
   "execution_count": 45,
   "id": "7c5d5b0c-309f-41e1-96e7-88ceec89450f",
   "metadata": {},
   "outputs": [
    {
     "data": {
      "text/html": [
       "<div>\n",
       "<style scoped>\n",
       "    .dataframe tbody tr th:only-of-type {\n",
       "        vertical-align: middle;\n",
       "    }\n",
       "\n",
       "    .dataframe tbody tr th {\n",
       "        vertical-align: top;\n",
       "    }\n",
       "\n",
       "    .dataframe thead th {\n",
       "        text-align: right;\n",
       "    }\n",
       "</style>\n",
       "<table border=\"1\" class=\"dataframe\">\n",
       "  <thead>\n",
       "    <tr style=\"text-align: right;\">\n",
       "      <th></th>\n",
       "      <th>Code</th>\n",
       "      <th>Area</th>\n",
       "      <th>Year</th>\n",
       "      <th>Measure</th>\n",
       "      <th>Value</th>\n",
       "    </tr>\n",
       "  </thead>\n",
       "  <tbody>\n",
       "    <tr>\n",
       "      <th>0</th>\n",
       "      <td>E09000001</td>\n",
       "      <td>City of London</td>\n",
       "      <td>Year ending Dec 1995</td>\n",
       "      <td>Median</td>\n",
       "      <td>105,000</td>\n",
       "    </tr>\n",
       "    <tr>\n",
       "      <th>1</th>\n",
       "      <td>E09000002</td>\n",
       "      <td>Barking and Dagenham</td>\n",
       "      <td>Year ending Dec 1995</td>\n",
       "      <td>Median</td>\n",
       "      <td>49,000</td>\n",
       "    </tr>\n",
       "    <tr>\n",
       "      <th>2</th>\n",
       "      <td>E09000003</td>\n",
       "      <td>Barnet</td>\n",
       "      <td>Year ending Dec 1995</td>\n",
       "      <td>Median</td>\n",
       "      <td>85,125</td>\n",
       "    </tr>\n",
       "    <tr>\n",
       "      <th>3</th>\n",
       "      <td>E09000004</td>\n",
       "      <td>Bexley</td>\n",
       "      <td>Year ending Dec 1995</td>\n",
       "      <td>Median</td>\n",
       "      <td>62,000</td>\n",
       "    </tr>\n",
       "    <tr>\n",
       "      <th>4</th>\n",
       "      <td>E09000005</td>\n",
       "      <td>Brent</td>\n",
       "      <td>Year ending Dec 1995</td>\n",
       "      <td>Median</td>\n",
       "      <td>68,000</td>\n",
       "    </tr>\n",
       "    <tr>\n",
       "      <th>...</th>\n",
       "      <td>...</td>\n",
       "      <td>...</td>\n",
       "      <td>...</td>\n",
       "      <td>...</td>\n",
       "      <td>...</td>\n",
       "    </tr>\n",
       "    <tr>\n",
       "      <th>12010</th>\n",
       "      <td>E12000008</td>\n",
       "      <td>South East</td>\n",
       "      <td>Year ending Dec 2017</td>\n",
       "      <td>Sales</td>\n",
       "      <td>148,025</td>\n",
       "    </tr>\n",
       "    <tr>\n",
       "      <th>12011</th>\n",
       "      <td>E12000009</td>\n",
       "      <td>South West</td>\n",
       "      <td>Year ending Dec 2017</td>\n",
       "      <td>Sales</td>\n",
       "      <td>102,292</td>\n",
       "    </tr>\n",
       "    <tr>\n",
       "      <th>12012</th>\n",
       "      <td>E92000001</td>\n",
       "      <td>England</td>\n",
       "      <td>Year ending Dec 2017</td>\n",
       "      <td>Sales</td>\n",
       "      <td>837,501</td>\n",
       "    </tr>\n",
       "    <tr>\n",
       "      <th>12013</th>\n",
       "      <td>W92000076</td>\n",
       "      <td>Wales</td>\n",
       "      <td>Year ending Dec 2017</td>\n",
       "      <td>Sales</td>\n",
       "      <td>46,828</td>\n",
       "    </tr>\n",
       "    <tr>\n",
       "      <th>12014</th>\n",
       "      <td>K04000073</td>\n",
       "      <td>England And Wales</td>\n",
       "      <td>Year ending Dec 2017</td>\n",
       "      <td>Sales</td>\n",
       "      <td>884,329</td>\n",
       "    </tr>\n",
       "  </tbody>\n",
       "</table>\n",
       "<p>12015 rows × 5 columns</p>\n",
       "</div>"
      ],
      "text/plain": [
       "            Code                  Area                  Year Measure    Value\n",
       "0      E09000001        City of London  Year ending Dec 1995  Median  105,000\n",
       "1      E09000002  Barking and Dagenham  Year ending Dec 1995  Median   49,000\n",
       "2      E09000003                Barnet  Year ending Dec 1995  Median   85,125\n",
       "3      E09000004                Bexley  Year ending Dec 1995  Median   62,000\n",
       "4      E09000005                 Brent  Year ending Dec 1995  Median   68,000\n",
       "...          ...                   ...                   ...     ...      ...\n",
       "12010  E12000008            South East  Year ending Dec 2017   Sales  148,025\n",
       "12011  E12000009            South West  Year ending Dec 2017   Sales  102,292\n",
       "12012  E92000001               England  Year ending Dec 2017   Sales  837,501\n",
       "12013  W92000076                 Wales  Year ending Dec 2017   Sales   46,828\n",
       "12014  K04000073     England And Wales  Year ending Dec 2017   Sales  884,329\n",
       "\n",
       "[12015 rows x 5 columns]"
      ]
     },
     "execution_count": 45,
     "metadata": {},
     "output_type": "execute_result"
    }
   ],
   "source": [
    "medianes"
   ]
  },
  {
   "cell_type": "code",
   "execution_count": 46,
   "id": "2928a2e9-4932-4d66-b7b7-2cc8a4758878",
   "metadata": {},
   "outputs": [
    {
     "name": "stdout",
     "output_type": "stream",
     "text": [
      "['Median' 'Mean' 'Sales']\n"
     ]
    }
   ],
   "source": [
    "print(medianes['Measure'].unique())"
   ]
  },
  {
   "cell_type": "code",
   "execution_count": 47,
   "id": "0141bbcf-a989-4b8a-bc18-750e58417ddb",
   "metadata": {},
   "outputs": [],
   "source": [
    "medianes[\"Year\"] = medianes[\"Year\"].astype(str).str.extract(r'(\\d{4})').astype(int)"
   ]
  },
  {
   "cell_type": "code",
   "execution_count": 55,
   "id": "5df48478-8d62-4114-aae8-4f5d8f35d09c",
   "metadata": {},
   "outputs": [
    {
     "name": "stdout",
     "output_type": "stream",
     "text": [
      "0    1995\n",
      "1    1995\n",
      "2    1995\n",
      "3    1995\n",
      "4    1995\n",
      "5    1995\n",
      "6    1995\n",
      "7    1995\n",
      "8    1995\n",
      "9    1995\n",
      "Name: Year, dtype: int64\n"
     ]
    }
   ],
   "source": [
    "print(medianes[\"Year\"].head(10))"
   ]
  },
  {
   "cell_type": "code",
   "execution_count": 49,
   "id": "ee59f9da-6393-4734-989c-784480d84a31",
   "metadata": {},
   "outputs": [],
   "source": [
    "# Enlever les virgules et convertir en type numérique\n",
    "medianes[\"Value\"] = medianes[\"Value\"].str.replace(\",\", \"\").astype(float)"
   ]
  },
  {
   "cell_type": "code",
   "execution_count": 50,
   "id": "04841389-34ff-4cf9-882b-6a95aa347cc6",
   "metadata": {},
   "outputs": [
    {
     "name": "stdout",
     "output_type": "stream",
     "text": [
      "0    105000.0\n",
      "1     49000.0\n",
      "2     85125.0\n",
      "3     62000.0\n",
      "4     68000.0\n",
      "5     76625.0\n",
      "6    114000.0\n",
      "7     60000.0\n",
      "8     75000.0\n",
      "9     66000.0\n",
      "Name: Value, dtype: float64\n"
     ]
    }
   ],
   "source": [
    "print(medianes[\"Value\"].head(10))"
   ]
  },
  {
   "cell_type": "code",
   "execution_count": 63,
   "id": "74c205ce-4249-441a-b27b-19b4f88dce15",
   "metadata": {},
   "outputs": [
    {
     "name": "stdout",
     "output_type": "stream",
     "text": [
      "1718124.0\n"
     ]
    }
   ],
   "source": [
    "prix_max = df_borough[df_borough[\"Measure\"].isin([\"Median\", \"Mean\"])][\"Value\"].max()\n",
    "print(prix_max)\n"
   ]
  },
  {
   "cell_type": "code",
   "execution_count": 68,
   "id": "7e7605c5-e5b3-466a-9183-a4bdc5efff8c",
   "metadata": {},
   "outputs": [
    {
     "name": "stderr",
     "output_type": "stream",
     "text": [
      "<ipython-input-68-8dc0b3199dba>:10: SettingWithCopyWarning: \n",
      "A value is trying to be set on a copy of a slice from a DataFrame.\n",
      "Try using .loc[row_indexer,col_indexer] = value instead\n",
      "\n",
      "See the caveats in the documentation: https://pandas.pydata.org/pandas-docs/stable/user_guide/indexing.html#returning-a-view-versus-a-copy\n",
      "  df_median[\"Value\"] = df_median[\"Value\"].replace({',': ''}, regex=True).astype(float)\n",
      "<ipython-input-68-8dc0b3199dba>:11: SettingWithCopyWarning: \n",
      "A value is trying to be set on a copy of a slice from a DataFrame.\n",
      "Try using .loc[row_indexer,col_indexer] = value instead\n",
      "\n",
      "See the caveats in the documentation: https://pandas.pydata.org/pandas-docs/stable/user_guide/indexing.html#returning-a-view-versus-a-copy\n",
      "  df_mean[\"Value\"] = df_mean[\"Value\"].replace({',': ''}, regex=True).astype(float)\n"
     ]
    },
    {
     "data": {
      "image/png": "[encoded data removed]",
      "text/plain": [
       "<Figure size 720x360 with 1 Axes>"
      ]
     },
     "metadata": {
      "needs_background": "light"
     },
     "output_type": "display_data"
    }
   ],
   "source": [
    "# Sélectionner un borough spécifique (ex : \"Westminster\")\n",
    "borough = \"Westminster\"\n",
    "df_borough = medianes[medianes[\"Area\"] == borough]\n",
    "\n",
    "# Séparer les types de mesures\n",
    "df_median = df_borough[df_borough[\"Measure\"] == \"Median\"]\n",
    "df_mean = df_borough[df_borough[\"Measure\"] == \"Mean\"]\n",
    "\n",
    "# Assurer que les valeurs sont en type float (au cas où il y a des virgules)\n",
    "df_median[\"Value\"] = df_median[\"Value\"].replace({',': ''}, regex=True).astype(float)\n",
    "df_mean[\"Value\"] = df_mean[\"Value\"].replace({',': ''}, regex=True).astype(float)\n",
    "\n",
    "# Création du graphique\n",
    "fig, ax = plt.subplots(figsize=(10, 5))\n",
    "\n",
    "# Tracer les prix médian et moyen\n",
    "ax.plot(df_median[\"Year\"], df_median[\"Value\"], color='blue', marker='o', label=\"Prix médian (£)\")\n",
    "ax.plot(df_mean[\"Year\"], df_mean[\"Value\"], color='green', marker='s', linestyle=\"dotted\", label=\"Prix moyen (£)\")\n",
    "\n",
    "# Mettre des ticks d'années tous les 5 ans\n",
    "ax.set_xticks(np.arange(df_borough[\"Year\"].min(), df_borough[\"Year\"].max() + 1, 5))\n",
    "\n",
    "# Limiter les ticks des prix tous les 50 000 £\n",
    "prix_max = df_borough[df_borough[\"Measure\"].isin([\"Median\", \"Mean\"])][\"Value\"].max()\n",
    "ax.set_yticks(np.arange(0, prix_max + 50000, 100000))\n",
    "\n",
    "# Ajouter les labels\n",
    "ax.set_xlabel(\"Année\")\n",
    "ax.set_ylabel(\"Prix (£)\")\n",
    "ax.set_title(f\"Évolution des prix - {borough}\")\n",
    "ax.legend()\n",
    "\n",
    "# Affichage\n",
    "plt.grid()\n",
    "plt.show()\n",
    "\n"
   ]
  },
  {
   "cell_type": "code",
   "execution_count": 70,
   "id": "9e172825-4be5-4042-806a-43c38c97da24",
   "metadata": {},
   "outputs": [
    {
     "name": "stdout",
     "output_type": "stream",
     "text": [
      "['City of London' 'Barking and Dagenham' 'Barnet' 'Bexley' 'Brent'\n",
      " 'Bromley' 'Camden' 'Croydon' 'Ealing' 'Enfield' 'Greenwich' 'Hackney'\n",
      " 'Hammersmith and Fulham' 'Haringey' 'Harrow' 'Havering' 'Hillingdon'\n",
      " 'Hounslow' 'Islington' 'Kensington and Chelsea' 'Kingston upon Thames'\n",
      " 'Lambeth' 'Lewisham' 'Merton' 'Newham' 'Redbridge' 'Richmond upon Thames'\n",
      " 'Southwark' 'Sutton' 'Tower Hamlets' 'Waltham Forest' 'Wandsworth'\n",
      " 'Westminster' 'North East' 'North West' 'Yorkshire And The Humber'\n",
      " 'East Midlands' 'West Midlands' 'East of England' 'London' 'South East'\n",
      " 'South West' 'England' 'Wales' 'England And Wales']\n"
     ]
    }
   ],
   "source": [
    "# Afficher les valeurs uniques dans la colonne \"Area\"\n",
    "aires_uniques = medianes[\"Area\"].unique()\n",
    "print(aires_uniques)"
   ]
  },
  {
   "cell_type": "code",
   "execution_count": 76,
   "id": "18608340-f3dc-4c85-a52f-66ea4ff70400",
   "metadata": {},
   "outputs": [
    {
     "data": {
      "application/vnd.jupyter.widget-view+json": {
       "model_id": "008a7b20521a4761bc7b812e46b13c1e",
       "version_major": 2,
       "version_minor": 0
      },
      "text/plain": [
       "interactive(children=(Dropdown(description='Quartier:', options=('City of London', 'Barking and Dagenham', 'Ba…"
      ]
     },
     "metadata": {},
     "output_type": "display_data"
    }
   ],
   "source": [
    "# Créer un widget de sélection pour le quartier\n",
    "dropdown = widgets.Dropdown(\n",
    "    options=medianes[\"Area\"].unique(),\n",
    "    description='Quartier:',\n",
    "    disabled=False\n",
    ")\n",
    "\n",
    "# Fonction pour mettre à jour le graphe en fonction du quartier sélectionné\n",
    "def update_graph(quartier):\n",
    "    # Filtrer les données pour le quartier sélectionné\n",
    "    df_quartier = medianes[medianes[\"Area\"] == quartier]\n",
    "    \n",
    "    # Créer le graphique interactif\n",
    "    fig = px.line(df_quartier, x=\"Year\", y=\"Value\", color=\"Measure\",\n",
    "                  title=f\"Évolution des prix à {quartier}\",\n",
    "                  labels={\"Value\": \"Prix (£)\", \"Year\": \"Année\"})\n",
    "    \n",
    "    fig.show()\n",
    "\n",
    "# Afficher le widget et initialiser le graphe\n",
    "widgets.interactive(update_graph, quartier=dropdown)"
   ]
  },
  {
   "cell_type": "code",
   "execution_count": null,
   "id": "ee87605f-5682-41cc-8dc5-0fd1194f74eb",
   "metadata": {},
   "outputs": [],
   "source": []
  }
 ],
 "metadata": {
  "kernelspec": {
   "display_name": "Python 3",
   "language": "python",
   "name": "python3"
  },
  "language_info": {
   "codemirror_mode": {
    "name": "ipython",
    "version": 3
   },
   "file_extension": ".py",
   "mimetype": "text/x-python",
   "name": "python",
   "nbconvert_exporter": "python",
   "pygments_lexer": "ipython3",
   "version": "3.8.8"
  }
 },
 "nbformat": 4,
 "nbformat_minor": 5
}
